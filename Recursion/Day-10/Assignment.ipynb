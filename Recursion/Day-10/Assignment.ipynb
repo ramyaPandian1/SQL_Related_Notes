{
 "cells": [
  {
   "cell_type": "markdown",
   "metadata": {},
   "source": [
    "Problem Description:\n",
    "\n",
    "Write a program to calculate the sum of the positive integers of the series n + (n-2) + (n-4)..... (until n-x ≥ 0).\n",
    "\n",
    "Input Format:\n",
    "\n",
    "The first line indicates the number of test cases. For each test case there will be one line of input as explained following:\n",
    "The one line contains n in integer format.\n",
    "Output Format:\n",
    "\n",
    "Series sum in integer format should be returned.\n",
    "Sample Input:\n",
    "\n",
    "1\n",
    "10\n",
    "Sample Output:\n",
    "\n",
    "30\n",
    "Sample Explanation:\n",
    "\n",
    "As 10 + (10-2) + (10-4) + (10-6) + (10-8) + (10-10) = 10 + 8 + 6 + 4 + 2 = 30, 30 is returned as the series sum for n=10."
   ]
  },
  {
   "cell_type": "code",
   "execution_count": 10,
   "metadata": {},
   "outputs": [
    {
     "name": "stdout",
     "output_type": "stream",
     "text": [
      "9\n"
     ]
    }
   ],
   "source": [
    "def sum_series(n):\n",
    "    '''n = Input in integer format\n",
    "       output:return sum of the series'''\n",
    "    # YOUR CODE GOES HERE\n",
    "    if n <= 0:\n",
    "        return 0\n",
    "    return n + sum_series(n-2)\n",
    "print(sum_series(5))"
   ]
  },
  {
   "attachments": {
    "image.png": {
     "image/png": "[encoded data removed]"
    }
   },
   "cell_type": "markdown",
   "metadata": {},
   "source": [
    "Problem Description:\n",
    "\n",
    "Write a recursive program to calculate the harmonic sum of the first n numbers.\n",
    "\n",
    "Note: The harmonic sum is the sum of reciprocals of the positive integers. (Round the sum to 3 decimal places)\n",
    "\n",
    "Illustration:\n",
    "![image.png](attachment:image.png)\n",
    "\n",
    "Input Format:\n",
    "\n",
    "The first line indicates the number of the test cases. For each testcase there will be one line of input as explained following:\n",
    "The one line inputs contains n in integer format.\n",
    "\n",
    "Output Format:\n",
    "Harmonic Sum in float format is returned.\n",
    "\n",
    "Sample Input:\n",
    "\n",
    "1\n",
    "7\n",
    "\n",
    "Sample Output:\n",
    "\n",
    "2.593\n",
    "![image.png](attachment:image.png)\n"
   ]
  },
  {
   "cell_type": "code",
   "execution_count": 25,
   "metadata": {},
   "outputs": [
    {
     "name": "stdout",
     "output_type": "stream",
     "text": [
      "2.593\n"
     ]
    }
   ],
   "source": [
    "def harmonic_sum(n):\n",
    "    '''n = Input in integer format\n",
    "       output:return harmonic sum'''\n",
    "    # YOUR CODE GOES HERE\n",
    "    if n == 1:\n",
    "        return 1 \n",
    "    return round((1/n + harmonic_sum(1/(n-1))),3)\n",
    "print(harmonic_sum(7))"
   ]
  },
  {
   "cell_type": "markdown",
   "metadata": {},
   "source": [
    "Q7. Reverse a number\n",
    "Problem Description:\n",
    "\n",
    "Write a recursive function to return the reverse of a given number passed as an argument.\n",
    "\n",
    "Input Format:\n",
    "\n",
    "The function will have two arguments.\n",
    "The first argument is the number n that is to be reversed.\n",
    "The second argument is a string temp which is empty by default.\n",
    "Output Format:\n",
    "\n",
    "Return the number in reverse order in the string format.\n",
    "Sample Input:\n",
    "\n",
    "123\n",
    "100\n",
    "Sample Output:\n",
    "\n",
    "321\n",
    "001\n",
    "Note: Trailing zeroes in the original number should be included in the front of reversed answer."
   ]
  },
  {
   "cell_type": "code",
   "execution_count": 44,
   "metadata": {},
   "outputs": [
    {
     "name": "stdout",
     "output_type": "stream",
     "text": [
      "001\n"
     ]
    }
   ],
   "source": [
    "def rev(n, temp=''):\n",
    "    ''' n-indicates the number to be reversed,\n",
    "         output:Return the number in reversed order in the string format'''\n",
    "    \n",
    "    # YOUR CODE GOES HERE\n",
    "    #print(n)\n",
    "    if n <=0 :\n",
    "        return temp\n",
    "    temp = str(n % 10)\n",
    "    return temp + rev(n // 10 )\n",
    "\n",
    "print(rev(100 , ''))\n",
    "    \n",
    "    "
   ]
  },
  {
   "cell_type": "code",
   "execution_count": 39,
   "metadata": {},
   "outputs": [
    {
     "data": {
      "text/plain": [
       "0"
      ]
     },
     "execution_count": 39,
     "metadata": {},
     "output_type": "execute_result"
    }
   ],
   "source": [
    "3// 10\n"
   ]
  },
  {
   "cell_type": "code",
   "execution_count": 28,
   "metadata": {},
   "outputs": [
    {
     "data": {
      "text/plain": [
       "'ss'"
      ]
     },
     "execution_count": 28,
     "metadata": {},
     "output_type": "execute_result"
    }
   ],
   "source": []
  },
  {
   "cell_type": "code",
   "execution_count": null,
   "metadata": {},
   "outputs": [],
   "source": []
  }
 ],
 "metadata": {
  "kernelspec": {
   "display_name": "Python 3",
   "language": "python",
   "name": "python3"
  },
  "language_info": {
   "codemirror_mode": {
    "name": "ipython",
    "version": 3
   },
   "file_extension": ".py",
   "mimetype": "text/x-python",
   "name": "python",
   "nbconvert_exporter": "python",
   "pygments_lexer": "ipython3",
   "version": "3.7.6"
  }
 },
 "nbformat": 4,
 "nbformat_minor": 4
}
