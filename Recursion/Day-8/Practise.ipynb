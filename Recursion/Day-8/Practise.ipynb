{
 "cells": [
  {
   "cell_type": "code",
   "execution_count": 14,
   "metadata": {},
   "outputs": [
    {
     "name": "stdout",
     "output_type": "stream",
     "text": [
      "10\n",
      "9\n",
      "8\n",
      "7\n",
      "6\n",
      "5\n",
      "4\n",
      "3\n",
      "2\n",
      "55\n"
     ]
    }
   ],
   "source": [
    "sum = 0\n",
    "\n",
    "def sumation(n):\n",
    "    if n == 1:\n",
    "        return 1\n",
    "    print(n)\n",
    "    return (n + sumation(n-1))\n",
    "\n",
    "print(sumation(10))"
   ]
  },
  {
   "cell_type": "code",
   "execution_count": 22,
   "metadata": {},
   "outputs": [
    {
     "name": "stdout",
     "output_type": "stream",
     "text": [
      "7\n",
      "6\n",
      "5\n",
      "4\n",
      "3\n",
      "2\n",
      "1\n",
      "5040\n"
     ]
    }
   ],
   "source": [
    "# factorial \n",
    "# 5! = 5 * 4 * 3 * 2 * 1\n",
    "# 0! = 1 \n",
    "def factorial(n):\n",
    "    if n == 1:\n",
    "        return 1\n",
    "    print(n)\n",
    "    return (n * factorial(n-1))\n",
    "\n",
    "print(factorial(7))"
   ]
  },
  {
   "cell_type": "code",
   "execution_count": 23,
   "metadata": {},
   "outputs": [
    {
     "name": "stdout",
     "output_type": "stream",
     "text": [
      "7\n",
      "6\n",
      "5\n",
      "4\n",
      "3\n",
      "2\n",
      "1\n",
      "5040\n"
     ]
    }
   ],
   "source": [
    "def factorial_2(n):\n",
    "    if n == 0:\n",
    "        return 1\n",
    "    print(n)\n",
    "    return (n * factorial_2(n-1))\n",
    "\n",
    "print(factorial_2(7))"
   ]
  },
  {
   "cell_type": "code",
   "execution_count": 25,
   "metadata": {},
   "outputs": [
    {
     "name": "stdout",
     "output_type": "stream",
     "text": [
      "7\n",
      "6\n",
      "5\n",
      "4\n",
      "3\n",
      "2\n",
      "5040\n"
     ]
    }
   ],
   "source": [
    "def factorial_3(n):\n",
    "    if n == 1:\n",
    "        return 1\n",
    "    print(n)\n",
    "    return (n * factorial_3(n-1))\n",
    "\n",
    "print(factorial_3(7))"
   ]
  },
  {
   "cell_type": "markdown",
   "metadata": {},
   "source": [
    "# Fibonacci series \n",
    "INDEX   0             , 1    , 2     , 3       , 4  , 5    ,6    , 7 , ....\n",
    "       0 ,            ,  1   ,  1    ,2        ,3   ,5     ,8,   ,13 , ....\n",
    "starts from 0 and 1     0 + 1  1 + 1     2+1 ,3 + 2 , 5+3, 8+5 , ....\n",
    "Sum of the previous number \n",
    "0+ 1 = 1\n",
    "1 + 1= 2\n",
    "FORMULA \n",
    "fib(n) = fib ( n-1 ) + fib( n-2) "
   ]
  },
  {
   "cell_type": "code",
   "execution_count": null,
   "metadata": {},
   "outputs": [],
   "source": [
    "def fibonacci(n):"
   ]
  }
 ],
 "metadata": {
  "kernelspec": {
   "display_name": "Python 3",
   "language": "python",
   "name": "python3"
  },
  "language_info": {
   "codemirror_mode": {
    "name": "ipython",
    "version": 3
   },
   "file_extension": ".py",
   "mimetype": "text/x-python",
   "name": "python",
   "nbconvert_exporter": "python",
   "pygments_lexer": "ipython3",
   "version": "3.7.6"
  }
 },
 "nbformat": 4,
 "nbformat_minor": 4
}
