{
 "cells": [
  {
   "cell_type": "code",
   "execution_count": 8,
   "metadata": {
    "colab": {
     "base_uri": "https://localhost:8080/"
    },
    "id": "438U8p8imvHB",
    "outputId": "d8b07a00-49e2-4b90-b05d-f04d46f16cbe"
   },
   "outputs": [
    {
     "name": "stdout",
     "output_type": "stream",
     "text": [
      "5\n",
      "4\n",
      "3\n",
      "2\n",
      "1\n",
      "None\n"
     ]
    }
   ],
   "source": [
    "## print n numbers in descending order\n",
    "def print_n(n):\n",
    "  if n == 0:\n",
    "    return\n",
    "  print(n)\n",
    "  print_n(n-1)\n",
    "\n",
    "print_n(5)"
   ]
  },
  {
   "cell_type": "code",
   "execution_count": 6,
   "metadata": {
    "colab": {
     "base_uri": "https://localhost:8080/"
    },
    "id": "b5g_EVsO1bSG",
    "outputId": "e97a23ad-6203-48d9-b4a9-4d18b6a2db2b"
   },
   "outputs": [
    {
     "name": "stdout",
     "output_type": "stream",
     "text": [
      "1\n",
      "2\n",
      "3\n",
      "4\n",
      "5\n"
     ]
    }
   ],
   "source": [
    "## print n numbers in ascending order\n",
    "def print_n(n):\n",
    "  if n == 0:\n",
    "    return\n",
    "  print_n(n-1)\n",
    "  print(n)\n",
    "\n",
    "print_n(5)"
   ]
  },
  {
   "cell_type": "code",
   "execution_count": 10,
   "metadata": {
    "colab": {
     "base_uri": "https://localhost:8080/"
    },
    "id": "adK7MhiU1tAY",
    "outputId": "b2386b23-7724-43f1-ca2c-e1c5436b5ccc"
   },
   "outputs": [
    {
     "name": "stdout",
     "output_type": "stream",
     "text": [
      "55\n"
     ]
    }
   ],
   "source": [
    "## Summation of n numbers\n",
    "def summation(n):\n",
    "  if n == 1:\n",
    "    return 1\n",
    "  return summation(n-1) + n\n",
    "\n",
    "print(summation(10))"
   ]
  },
  {
   "cell_type": "code",
   "execution_count": 11,
   "metadata": {
    "colab": {
     "base_uri": "https://localhost:8080/"
    },
    "id": "WHH1D3AXACG4",
    "outputId": "e8269f37-5ea0-4a4d-d3f9-4b41daa20c65"
   },
   "outputs": [
    {
     "name": "stdout",
     "output_type": "stream",
     "text": [
      "6\n"
     ]
    }
   ],
   "source": [
    "def factorial_1(n):\n",
    "  if n == 1:\n",
    "    return 1\n",
    "  return factorial_1(n-1) * n\n",
    "\n",
    "print(factorial_1(3))"
   ]
  },
  {
   "cell_type": "code",
   "execution_count": 12,
   "metadata": {
    "colab": {
     "base_uri": "https://localhost:8080/"
    },
    "id": "mR6a9-1vCgNY",
    "outputId": "901ba30c-76bb-4911-ab71-8b32c8a0f6d7"
   },
   "outputs": [
    {
     "name": "stdout",
     "output_type": "stream",
     "text": [
      "6\n"
     ]
    }
   ],
   "source": [
    "def factorial_2(n):\n",
    "  if n == 0:\n",
    "    return 1\n",
    "  return factorial_2(n-1) * n\n",
    "\n",
    "print(factorial_2(3))"
   ]
  },
  {
   "cell_type": "code",
   "execution_count": null,
   "metadata": {
    "id": "jCzHSNg8Clbr"
   },
   "outputs": [],
   "source": [
    "def factorial_3(n):\n",
    "  if n == 2:\n",
    "    return 2\n",
    "  print(n)\n",
    "  return factorial_3(n-1) * n\n",
    "\n",
    "print(factorial_3(1)) ## Throws an error after 953 recursive calls."
   ]
  },
  {
   "cell_type": "code",
   "execution_count": 17,
   "metadata": {
    "colab": {
     "base_uri": "https://localhost:8080/"
    },
    "id": "69Ufm1c4CpWq",
    "outputId": "a43aa90a-84b8-47a2-cf20-a41be2efa20d"
   },
   "outputs": [
    {
     "name": "stdout",
     "output_type": "stream",
     "text": [
      "0\n",
      "1\n",
      "1\n",
      "2\n",
      "3\n",
      "5\n",
      "8\n",
      "13\n",
      "21\n"
     ]
    }
   ],
   "source": [
    "def fib(n):\n",
    "  if n == 0 or n == 1:\n",
    "    return n\n",
    "  return fib(n - 1) + fib(n - 2)\n",
    "\n",
    "for i in range(9):\n",
    "  print(fib(i))"
   ]
  },
  {
   "cell_type": "code",
   "execution_count": 29,
   "metadata": {
    "colab": {
     "base_uri": "https://localhost:8080/"
    },
    "id": "G71aGmWWGPMM",
    "outputId": "9ab2bf2c-5d88-4df4-a9f5-08f52f1c103e"
   },
   "outputs": [
    {
     "name": "stdout",
     "output_type": "stream",
     "text": [
      "5\n",
      "4\n",
      "3\n",
      "2\n",
      "1\n"
     ]
    }
   ],
   "source": [
    "def print_n_roshan(k):\n",
    "  if k >= 1:\n",
    "    print(k)\n",
    "    print_n_roshan(k-1)\n",
    "    \n",
    "  return\n",
    "print_n_roshan(5)"
   ]
  },
  {
   "cell_type": "code",
   "execution_count": 30,
   "metadata": {
    "colab": {
     "base_uri": "https://localhost:8080/"
    },
    "id": "zR-C2KBuNzjE",
    "outputId": "188afec4-a1b4-4a58-e298-597c855c1c05"
   },
   "outputs": [
    {
     "name": "stdout",
     "output_type": "stream",
     "text": [
      "15\n"
     ]
    }
   ],
   "source": [
    "def sum_n(n):\n",
    "  if n == 0:\n",
    "    return 0\n",
    "  a = sum_n(n-1)\n",
    "  return a + n\n",
    "\n",
    "print(sum_n(5))"
   ]
  },
  {
   "cell_type": "code",
   "execution_count": 32,
   "metadata": {
    "colab": {
     "base_uri": "https://localhost:8080/"
    },
    "id": "9f51PbeXPufn",
    "outputId": "b9da8e78-7b81-49a1-b519-47b2b4ddcd23"
   },
   "outputs": [
    {
     "name": "stdout",
     "output_type": "stream",
     "text": [
      "6\n"
     ]
    }
   ],
   "source": [
    "def sum_n(n):\n",
    "  if n == 0:\n",
    "    return 0\n",
    "  return n + sum_n(n-1)\n",
    "print(sum_n(3))"
   ]
  },
  {
   "cell_type": "code",
   "execution_count": 34,
   "metadata": {
    "colab": {
     "base_uri": "https://localhost:8080/"
    },
    "id": "ID83AtTOPyZn",
    "outputId": "27bd4f7a-cb4e-4348-a3fc-6304c94d0703"
   },
   "outputs": [
    {
     "name": "stdout",
     "output_type": "stream",
     "text": [
      "0 \n",
      "1 \n",
      "2 0 \n",
      "3 1 \n",
      "4 2 0 \n"
     ]
    }
   ],
   "source": [
    "for i in range(5):\n",
    "  for j in range(i, -1, -2):\n",
    "    print(j, end=\" \")\n",
    "  print()"
   ]
  },
  {
   "cell_type": "code",
   "execution_count": null,
   "metadata": {},
   "outputs": [],
   "source": []
  }
 ],
 "metadata": {
  "colab": {
   "collapsed_sections": [],
   "provenance": []
  },
  "kernelspec": {
   "display_name": "Python 3",
   "language": "python",
   "name": "python3"
  },
  "language_info": {
   "codemirror_mode": {
    "name": "ipython",
    "version": 3
   },
   "file_extension": ".py",
   "mimetype": "text/x-python",
   "name": "python",
   "nbconvert_exporter": "python",
   "pygments_lexer": "ipython3",
   "version": "3.7.6"
  }
 },
 "nbformat": 4,
 "nbformat_minor": 1
}
