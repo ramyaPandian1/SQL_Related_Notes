{
 "cells": [
  {
   "cell_type": "markdown",
   "metadata": {},
   "source": [
    "Problem Description:\n",
    "\n",
    "Write a recursive function that returns the number of occurrences of \"hi\" in the string passed as a parameter to the function.\n",
    "\n",
    "Input Format:\n",
    "\n",
    "The function has two arguments count which is 0 by default and represents the count of \"hi\" in s.\n",
    "The second argument to this function is s.\n",
    "Output Format:\n",
    "\n",
    "Return the count of 'hi' occurrences in the string in integer format for each testcase.\n",
    "Sample Input:\n",
    "\n",
    "'hishisha'\n",
    "Sample Output:\n",
    "\n",
    "2\n",
    "Sample explanation:\n",
    "\n",
    "'hi' occurs at index [0,1] and [3,4] in the string 'hishisha' therefore 2 is returned."
   ]
  },
  {
   "cell_type": "code",
   "execution_count": 28,
   "metadata": {},
   "outputs": [
    {
     "name": "stdout",
     "output_type": "stream",
     "text": [
      "I--> h\n",
      "After append I =====>  ['h']\n",
      "I--> i\n",
      "After append I =====>  ['h', 'i']\n",
      "inside count==> 1\n",
      "I--> s\n",
      "After append I =====>  ['h', 'i', 's']\n",
      "POP forst element ===> ['i', 's']\n",
      "I--> h\n",
      "After append I =====>  ['i', 's', 'h']\n",
      "POP forst element ===> ['s', 'h']\n",
      "I--> i\n",
      "After append I =====>  ['s', 'h', 'i']\n",
      "POP forst element ===> ['h', 'i']\n",
      "inside count==> 2\n",
      "I--> s\n",
      "After append I =====>  ['h', 'i', 's']\n",
      "POP forst element ===> ['i', 's']\n",
      "I--> h\n",
      "After append I =====>  ['i', 's', 'h']\n",
      "POP forst element ===> ['s', 'h']\n",
      "I--> i\n",
      "After append I =====>  ['s', 'h', 'i']\n",
      "POP forst element ===> ['h', 'i']\n",
      "inside count==> 3\n",
      "I--> a\n",
      "After append I =====>  ['h', 'i', 'a']\n",
      "POP forst element ===> ['i', 'a']\n",
      "I--> h\n",
      "After append I =====>  ['i', 'a', 'h']\n",
      "POP forst element ===> ['a', 'h']\n",
      "I--> i\n",
      "After append I =====>  ['a', 'h', 'i']\n",
      "POP forst element ===> ['h', 'i']\n",
      "inside count==> 4\n",
      "4\n"
     ]
    }
   ],
   "source": [
    "def stringRecursion(str1,str2):\n",
    "    temp =[]\n",
    "    count = 0\n",
    "    for i in str1:\n",
    "        print(\"I-->\", i)\n",
    "        temp.append(i)\n",
    "        print(\"After append I =====> \",temp)\n",
    "        if len(temp) >2:\n",
    "            temp.pop(0)\n",
    "            print(\"POP forst element ===>\",temp)\n",
    "        if temp == ['h','i']:\n",
    "            count +=1\n",
    "            print(\"inside count==>\" , count)\n",
    "    return count\n",
    "\n",
    "print(stringRecursion(\"hishishiahi\",'hi'))\n",
    "    \n",
    "    "
   ]
  },
  {
   "cell_type": "code",
   "execution_count": 16,
   "metadata": {},
   "outputs": [
    {
     "data": {
      "text/plain": [
       "False"
      ]
     },
     "execution_count": 16,
     "metadata": {},
     "output_type": "execute_result"
    }
   ],
   "source": [
    "temp =['h','i']\n",
    "temp == ['h','i','e']"
   ]
  },
  {
   "cell_type": "code",
   "execution_count": 34,
   "metadata": {},
   "outputs": [
    {
     "data": {
      "text/plain": [
       "0"
      ]
     },
     "execution_count": 34,
     "metadata": {},
     "output_type": "execute_result"
    }
   ],
   "source": [
    "1 //2"
   ]
  },
  {
   "cell_type": "code",
   "execution_count": null,
   "metadata": {},
   "outputs": [],
   "source": []
  }
 ],
 "metadata": {
  "kernelspec": {
   "display_name": "Python 3",
   "language": "python",
   "name": "python3"
  },
  "language_info": {
   "codemirror_mode": {
    "name": "ipython",
    "version": 3
   },
   "file_extension": ".py",
   "mimetype": "text/x-python",
   "name": "python",
   "nbconvert_exporter": "python",
   "pygments_lexer": "ipython3",
   "version": "3.7.6"
  }
 },
 "nbformat": 4,
 "nbformat_minor": 4
}
