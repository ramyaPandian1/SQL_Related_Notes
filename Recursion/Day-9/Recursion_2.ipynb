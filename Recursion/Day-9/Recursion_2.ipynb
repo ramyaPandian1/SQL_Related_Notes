{
  "nbformat": 4,
  "nbformat_minor": 0,
  "metadata": {
    "colab": {
      "provenance": [],
      "collapsed_sections": []
    },
    "kernelspec": {
      "name": "python3",
      "display_name": "Python 3"
    },
    "language_info": {
      "name": "python"
    }
  },
  "cells": [
    {
      "cell_type": "code",
      "source": [
        "## Sum of digits problem\n",
        "def sum_d(n):\n",
        "  if n == 0:\n",
        "    return 0\n",
        "  return n%10 + sum_d(n//10)\n",
        "\n",
        "print(sum_d(1729))\n",
        "print(sum_d(101010))\n",
        "print(sum_d(11235))"
      ],
      "metadata": {
        "id": "mQ3v1Lr0w_er",
        "colab": {
          "base_uri": "https://localhost:8080/"
        },
        "outputId": "71815e74-6386-48bc-a384-e342e73855a7"
      },
      "execution_count": 5,
      "outputs": [
        {
          "output_type": "stream",
          "name": "stdout",
          "text": [
            "19\n",
            "3\n",
            "12\n"
          ]
        }
      ]
    },
    {
      "cell_type": "code",
      "source": [
        "def pow(a, n):\n",
        "  if n == 0:\n",
        "    return 1\n",
        "  return pow(a, n-1) * a\n",
        "\n",
        "print(pow(2, 4))"
      ],
      "metadata": {
        "colab": {
          "base_uri": "https://localhost:8080/"
        },
        "id": "Jbk_FU3TFlI5",
        "outputId": "852209dc-eb09-4de1-8ae7-4912993d793d"
      },
      "execution_count": 8,
      "outputs": [
        {
          "output_type": "stream",
          "name": "stdout",
          "text": [
            "16\n"
          ]
        }
      ]
    },
    {
      "cell_type": "code",
      "source": [
        "def pow_opt(a, n):\n",
        "  if n == 0:\n",
        "    return 1\n",
        "  t = pow_opt(a, n // 2)\n",
        "  if n%2 == 0:\n",
        "    return t*t\n",
        "  else:\n",
        "    return t*t*a\n",
        "\n",
        "print(pow_opt(2, 11))"
      ],
      "metadata": {
        "colab": {
          "base_uri": "https://localhost:8080/"
        },
        "id": "yHta2GyNJBFK",
        "outputId": "2f0fc197-06cb-4d79-87b7-e3bbc3c89b8e"
      },
      "execution_count": 10,
      "outputs": [
        {
          "output_type": "stream",
          "name": "stdout",
          "text": [
            "2048\n"
          ]
        }
      ]
    },
    {
      "cell_type": "code",
      "source": [
        "def merge(A, B):\n",
        "  idx_A = 0\n",
        "  idx_B = 0\n",
        "  C = []\n",
        "  while idx_A < len(A) and idx_B < len(B):\n",
        "      if A[idx_A] < B[idx_B]:\n",
        "        C.append(A[idx_A])\n",
        "        idx_A += 1\n",
        "      else:\n",
        "        C.append(B[idx_B])\n",
        "        idx_B += 1\n",
        "  return C + A[idx_A:] + B[idx_B:]\n",
        "\n",
        "def merge_sort(arr):\n",
        "  if len(arr) <= 1:\n",
        "    return arr\n",
        "  \n",
        "  mid = len(arr) // 2\n",
        "  A = merge_sort(arr[:mid])\n",
        "  B = merge_sort(arr[mid:])\n",
        "\n",
        "  return merge(A, B)\n",
        "\n",
        "arr = [1, 7, 2, 9]\n",
        "arr2 = [5, 4, 3, 2, 1, 1]\n",
        "\n",
        "print(merge_sort(arr2))"
      ],
      "metadata": {
        "colab": {
          "base_uri": "https://localhost:8080/"
        },
        "id": "HXrZUhw7MlhQ",
        "outputId": "c8f5a55d-82a8-4952-8a0d-634c5eaacd20"
      },
      "execution_count": 12,
      "outputs": [
        {
          "output_type": "stream",
          "name": "stdout",
          "text": [
            "[1, 1, 2, 3, 4, 5]\n"
          ]
        }
      ]
    },
    {
      "cell_type": "code",
      "source": [
        "def countHi(s, count=0,i=0):\n",
        "  if i>len(s)-1 :\n",
        "    return count\n",
        "  else:\n",
        "    if s[i:i+2]==\"hi\":\n",
        "      count+=1\n",
        "    i+=1\n",
        "    return countHi(s,count,i)\n",
        "\n",
        "countHi(\"hhi hi hellohi hiheyhi\") #in this case how string is decrease"
      ],
      "metadata": {
        "colab": {
          "base_uri": "https://localhost:8080/"
        },
        "id": "urc9A-QhRkul",
        "outputId": "3ceec6aa-c400-450b-96dd-7135a0a407b0"
      },
      "execution_count": 15,
      "outputs": [
        {
          "output_type": "execute_result",
          "data": {
            "text/plain": [
              "5"
            ]
          },
          "metadata": {},
          "execution_count": 15
        }
      ]
    },
    {
      "cell_type": "code",
      "source": [
        "def countHi(s, count=0):\n",
        "  if len(s) <= 1 :\n",
        "    return count\n",
        "  else:\n",
        "    if s[:2]==\"hi\":\n",
        "      count+=1\n",
        "    i+=1\n",
        "    return countHi(s[2:],count,i)\n",
        "\n",
        "countHi(\"hhi hi hellohi hiheyhi\") #in this case how string is decrease"
      ],
      "metadata": {
        "id": "dVRoSNwIiqAu"
      },
      "execution_count": null,
      "outputs": []
    }
  ]
}